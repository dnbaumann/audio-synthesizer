{
 "cells": [
  {
   "cell_type": "code",
   "execution_count": 147,
   "metadata": {},
   "outputs": [],
   "source": [
    "import pyaudio\n",
    "import numpy as np\n",
    "import pandas as pd\n",
    "import matplotlib.pyplo\n",
    "t as plt\n",
    "from time import *\n",
    "\n",
    "%matplotlib inline"
   ]
  },
  {
   "cell_type": "code",
   "execution_count": 146,
   "metadata": {},
   "outputs": [
    {
     "data": {
      "text/html": [
       "<div>\n",
       "<style scoped>\n",
       "    .dataframe tbody tr th:only-of-type {\n",
       "        vertical-align: middle;\n",
       "    }\n",
       "\n",
       "    .dataframe tbody tr th {\n",
       "        vertical-align: top;\n",
       "    }\n",
       "\n",
       "    .dataframe thead th {\n",
       "        text-align: right;\n",
       "    }\n",
       "</style>\n",
       "<table border=\"1\" class=\"dataframe\">\n",
       "  <thead>\n",
       "    <tr style=\"text-align: right;\">\n",
       "      <th>Note</th>\n",
       "      <th>C0</th>\n",
       "      <th>C#0/Db0</th>\n",
       "      <th>D0</th>\n",
       "      <th>D#0/Eb0</th>\n",
       "      <th>E0</th>\n",
       "      <th>F0</th>\n",
       "      <th>F#0/Gb0</th>\n",
       "      <th>G0</th>\n",
       "      <th>G#0/Ab0</th>\n",
       "      <th>A0</th>\n",
       "      <th>...</th>\n",
       "      <th>D8</th>\n",
       "      <th>D#8/Eb8</th>\n",
       "      <th>E8</th>\n",
       "      <th>F8</th>\n",
       "      <th>F#8/Gb8</th>\n",
       "      <th>G8</th>\n",
       "      <th>G#8/Ab8</th>\n",
       "      <th>A8</th>\n",
       "      <th>A#8/Bb8</th>\n",
       "      <th>B8</th>\n",
       "    </tr>\n",
       "  </thead>\n",
       "  <tbody>\n",
       "    <tr>\n",
       "      <th>Frequency</th>\n",
       "      <td>16.35</td>\n",
       "      <td>17.32</td>\n",
       "      <td>18.35</td>\n",
       "      <td>19.45</td>\n",
       "      <td>20.60</td>\n",
       "      <td>21.83</td>\n",
       "      <td>23.12</td>\n",
       "      <td>24.50</td>\n",
       "      <td>25.96</td>\n",
       "      <td>27.50</td>\n",
       "      <td>...</td>\n",
       "      <td>4698.63</td>\n",
       "      <td>4978.03</td>\n",
       "      <td>5274.04</td>\n",
       "      <td>5587.65</td>\n",
       "      <td>5919.91</td>\n",
       "      <td>6271.93</td>\n",
       "      <td>6644.88</td>\n",
       "      <td>7040.0</td>\n",
       "      <td>7458.62</td>\n",
       "      <td>7902.13</td>\n",
       "    </tr>\n",
       "    <tr>\n",
       "      <th>Wavelenght</th>\n",
       "      <td>2109.89</td>\n",
       "      <td>1991.47</td>\n",
       "      <td>1879.69</td>\n",
       "      <td>1774.20</td>\n",
       "      <td>1674.62</td>\n",
       "      <td>1580.63</td>\n",
       "      <td>1491.91</td>\n",
       "      <td>1408.18</td>\n",
       "      <td>1329.14</td>\n",
       "      <td>1254.55</td>\n",
       "      <td>...</td>\n",
       "      <td>7.34</td>\n",
       "      <td>6.93</td>\n",
       "      <td>6.54</td>\n",
       "      <td>6.17</td>\n",
       "      <td>5.83</td>\n",
       "      <td>5.50</td>\n",
       "      <td>5.19</td>\n",
       "      <td>4.9</td>\n",
       "      <td>4.63</td>\n",
       "      <td>4.37</td>\n",
       "    </tr>\n",
       "  </tbody>\n",
       "</table>\n",
       "<p>2 rows × 108 columns</p>\n",
       "</div>"
      ],
      "text/plain": [
       "Note             C0  C#0/Db0       D0  D#0/Eb0       E0       F0  F#0/Gb0  \\\n",
       "Frequency     16.35    17.32    18.35    19.45    20.60    21.83    23.12   \n",
       "Wavelenght  2109.89  1991.47  1879.69  1774.20  1674.62  1580.63  1491.91   \n",
       "\n",
       "Note             G0  G#0/Ab0       A0   ...          D8  D#8/Eb8       E8  \\\n",
       "Frequency     24.50    25.96    27.50   ...     4698.63  4978.03  5274.04   \n",
       "Wavelenght  1408.18  1329.14  1254.55   ...        7.34     6.93     6.54   \n",
       "\n",
       "Note             F8  F#8/Gb8       G8  G#8/Ab8      A8  A#8/Bb8       B8  \n",
       "Frequency   5587.65  5919.91  6271.93  6644.88  7040.0  7458.62  7902.13  \n",
       "Wavelenght     6.17     5.83     5.50     5.19     4.9     4.63     4.37  \n",
       "\n",
       "[2 rows x 108 columns]"
      ]
     },
     "execution_count": 146,
     "metadata": {},
     "output_type": "execute_result"
    }
   ],
   "source": [
    "fqs = pd.read_csv('notesFrequencies', \n",
    "                index_col=0, \n",
    "                header=None,\n",
    "                names=['Note','Frequency', 'Wavelenght']).T\n",
    "fqs.head()"
   ]
  },
  {
   "cell_type": "code",
   "execution_count": 144,
   "metadata": {
    "scrolled": true
   },
   "outputs": [
    {
     "data": {
      "text/html": [
       "<div>\n",
       "<style scoped>\n",
       "    .dataframe tbody tr th:only-of-type {\n",
       "        vertical-align: middle;\n",
       "    }\n",
       "\n",
       "    .dataframe tbody tr th {\n",
       "        vertical-align: top;\n",
       "    }\n",
       "\n",
       "    .dataframe thead th {\n",
       "        text-align: right;\n",
       "    }\n",
       "</style>\n",
       "<table border=\"1\" class=\"dataframe\">\n",
       "  <thead>\n",
       "    <tr style=\"text-align: right;\">\n",
       "      <th></th>\n",
       "      <th>Semitone</th>\n",
       "      <th>R1</th>\n",
       "      <th>R2</th>\n",
       "      <th>Interval</th>\n",
       "      <th>Natural</th>\n",
       "      <th>HS1</th>\n",
       "      <th>HS2</th>\n",
       "    </tr>\n",
       "  </thead>\n",
       "  <tbody>\n",
       "    <tr>\n",
       "      <th>0</th>\n",
       "      <td>0</td>\n",
       "      <td>1</td>\n",
       "      <td>1</td>\n",
       "      <td>unison</td>\n",
       "      <td>480</td>\n",
       "      <td>0</td>\n",
       "      <td>0</td>\n",
       "    </tr>\n",
       "    <tr>\n",
       "      <th>1</th>\n",
       "      <td>1</td>\n",
       "      <td>16</td>\n",
       "      <td>15</td>\n",
       "      <td>minor_semitone</td>\n",
       "      <td>512</td>\n",
       "      <td>16</td>\n",
       "      <td>15</td>\n",
       "    </tr>\n",
       "    <tr>\n",
       "      <th>2</th>\n",
       "      <td>2</td>\n",
       "      <td>9</td>\n",
       "      <td>8</td>\n",
       "      <td>major_second</td>\n",
       "      <td>540</td>\n",
       "      <td>135</td>\n",
       "      <td>128</td>\n",
       "    </tr>\n",
       "    <tr>\n",
       "      <th>3</th>\n",
       "      <td>3</td>\n",
       "      <td>6</td>\n",
       "      <td>5</td>\n",
       "      <td>minor_third</td>\n",
       "      <td>576</td>\n",
       "      <td>16</td>\n",
       "      <td>15</td>\n",
       "    </tr>\n",
       "    <tr>\n",
       "      <th>4</th>\n",
       "      <td>4</td>\n",
       "      <td>5</td>\n",
       "      <td>4</td>\n",
       "      <td>major_third</td>\n",
       "      <td>600</td>\n",
       "      <td>25</td>\n",
       "      <td>24</td>\n",
       "    </tr>\n",
       "  </tbody>\n",
       "</table>\n",
       "</div>"
      ],
      "text/plain": [
       "   Semitone  R1  R2        Interval  Natural  HS1  HS2\n",
       "0         0   1   1          unison      480    0    0\n",
       "1         1  16  15  minor_semitone      512   16   15\n",
       "2         2   9   8    major_second      540  135  128\n",
       "3         3   6   5     minor_third      576   16   15\n",
       "4         4   5   4     major_third      600   25   24"
      ]
     },
     "execution_count": 144,
     "metadata": {},
     "output_type": "execute_result"
    }
   ],
   "source": [
    "intervals = pd.read_csv('intervals', \n",
    "                        header=None, \n",
    "                        names = ['Semitone', 'R1', 'R2', 'Interval', 'Natural', 'HS1', 'HS2'])\n",
    "intervals.head()"
   ]
  },
  {
   "cell_type": "markdown",
   "metadata": {},
   "source": [
    "#### Generating a Wave"
   ]
  },
  {
   "cell_type": "code",
   "execution_count": 157,
   "metadata": {},
   "outputs": [],
   "source": [
    "minVolume = 0.2\n",
    "maxVolume = 1\n",
    "samples = 40\n",
    "\n",
    "song = pd.DataFrame()\n",
    "song.loc[:,'Volume'] = np.concatenate([np.linspace(minVolume, maxVolume, samples), \n",
    "                                       np.linspace(maxVolume, minVolume, samples)])\n",
    "song.loc[:,'Note'] = 'C4'\n",
    "song.loc[:,'Duration'] = 0.5572565\n",
    "song = song[['Note', 'Duration', 'Volume']]"
   ]
  },
  {
   "cell_type": "code",
   "execution_count": 158,
   "metadata": {},
   "outputs": [],
   "source": [
    "song = song.values.tolist()"
   ]
  },
  {
   "cell_type": "code",
   "execution_count": 215,
   "metadata": {
    "scrolled": false
   },
   "outputs": [],
   "source": [
    "fs = 44100  # sampling rate, Hz, must be integer\n",
    "volume = 0.3\n",
    "\n",
    "for i in range(0, len(song)):\n",
    "    p = pyaudio.PyAudio()\n",
    "\n",
    "    # generate samples, note conversion to float32 array\n",
    "    samples = (np.sin(2*np.pi*np.arange(fs*song[i][1])*fq[song[i][0]][0]/fs)).astype(np.float32)\n",
    "\n",
    "    # for paFloat32 sample values must be in range [-1.0, 1.0]\n",
    "    stream = p.open(format=pyaudio.paFloat32,\n",
    "                    channels=1,\n",
    "                    rate=fs,\n",
    "                    output=True)\n",
    "\n",
    "    # play. May repeat with different volume values (if done interactively) \n",
    "    \n",
    "    stream.write(song[i][2]*samples)\n",
    "\n",
    "    stream.stop_stream()\n",
    "    stream.close()\n",
    "\n",
    "    p.terminate()"
   ]
  },
  {
   "cell_type": "markdown",
   "metadata": {},
   "source": [
    "#### Reading Song Written in File"
   ]
  },
  {
   "cell_type": "code",
   "execution_count": 204,
   "metadata": {},
   "outputs": [],
   "source": [
    "song = pd.read_csv('Imperial March', \n",
    "                   header=None,\n",
    "                   names=['Frequency','Duration'])"
   ]
  },
  {
   "cell_type": "code",
   "execution_count": 205,
   "metadata": {},
   "outputs": [],
   "source": [
    "song.Duration = song.Duration.apply(lambda x: x/200)"
   ]
  },
  {
   "cell_type": "code",
   "execution_count": 206,
   "metadata": {},
   "outputs": [
    {
     "data": {
      "text/html": [
       "<div>\n",
       "<style scoped>\n",
       "    .dataframe tbody tr th:only-of-type {\n",
       "        vertical-align: middle;\n",
       "    }\n",
       "\n",
       "    .dataframe tbody tr th {\n",
       "        vertical-align: top;\n",
       "    }\n",
       "\n",
       "    .dataframe thead th {\n",
       "        text-align: right;\n",
       "    }\n",
       "</style>\n",
       "<table border=\"1\" class=\"dataframe\">\n",
       "  <thead>\n",
       "    <tr style=\"text-align: right;\">\n",
       "      <th></th>\n",
       "      <th>Frequency</th>\n",
       "      <th>Duration</th>\n",
       "    </tr>\n",
       "  </thead>\n",
       "  <tbody>\n",
       "    <tr>\n",
       "      <th>0</th>\n",
       "      <td>440</td>\n",
       "      <td>2.5</td>\n",
       "    </tr>\n",
       "    <tr>\n",
       "      <th>1</th>\n",
       "      <td>0</td>\n",
       "      <td>2.5</td>\n",
       "    </tr>\n",
       "    <tr>\n",
       "      <th>2</th>\n",
       "      <td>659</td>\n",
       "      <td>2.5</td>\n",
       "    </tr>\n",
       "    <tr>\n",
       "      <th>3</th>\n",
       "      <td>659</td>\n",
       "      <td>2.5</td>\n",
       "    </tr>\n",
       "    <tr>\n",
       "      <th>4</th>\n",
       "      <td>659</td>\n",
       "      <td>2.5</td>\n",
       "    </tr>\n",
       "  </tbody>\n",
       "</table>\n",
       "</div>"
      ],
      "text/plain": [
       "   Frequency  Duration\n",
       "0        440       2.5\n",
       "1          0       2.5\n",
       "2        659       2.5\n",
       "3        659       2.5\n",
       "4        659       2.5"
      ]
     },
     "execution_count": 206,
     "metadata": {},
     "output_type": "execute_result"
    }
   ],
   "source": [
    "song.head()"
   ]
  },
  {
   "cell_type": "code",
   "execution_count": 207,
   "metadata": {},
   "outputs": [],
   "source": [
    "song = song.values.tolist()"
   ]
  },
  {
   "cell_type": "code",
   "execution_count": 216,
   "metadata": {},
   "outputs": [],
   "source": [
    "fs = 44100  # sampling rate, Hz, must be integer\n",
    "volume = 0.3\n",
    "\n",
    "for i in range(0, len(song)):\n",
    "    p = pyaudio.PyAudio()\n",
    "\n",
    "    # generate samples, note conversion to float32 array\n",
    "    samples = (np.sin(2*np.pi*np.arange(fs*song[i][1])*song[i][0]/fs)).astype(np.float32)\n",
    "\n",
    "    # for paFloat32 sample values must be in range [-1.0, 1.0]\n",
    "    stream = p.open(format=pyaudio.paFloat32,\n",
    "                    channels=1,\n",
    "                    rate=fs,\n",
    "                    output=True)\n",
    "\n",
    "    # play. May repeat with different volume values (if done interactively) \n",
    "    \n",
    "    stream.write(0.5*samples)\n",
    "\n",
    "    stream.stop_stream()\n",
    "    stream.close()\n",
    "\n",
    "    p.terminate()"
   ]
  },
  {
   "cell_type": "markdown",
   "metadata": {},
   "source": [
    "#### Combining sine waves"
   ]
  },
  {
   "cell_type": "code",
   "execution_count": 230,
   "metadata": {},
   "outputs": [],
   "source": [
    "duration = 10"
   ]
  },
  {
   "cell_type": "code",
   "execution_count": 231,
   "metadata": {},
   "outputs": [],
   "source": [
    "p = pyaudio.PyAudio()\n",
    "\n",
    "# generate samples, note conversion to float32 array\n",
    "samples = np.sum([np.sin(2*np.pi*np.arange(fs*duration)*100/fs), \n",
    "                  np.sin(2*np.pi*np.arange(fs*duration)*105/fs),\n",
    "                  np.sin(2*np.pi*np.arange(fs*duration)*200/fs)], axis=0).astype(np.float32)\n",
    "\n",
    "\n",
    "# for paFloat32 sample values must be in range [-1.0, 1.0]\n",
    "stream = p.open(format=pyaudio.paFloat32,\n",
    "                channels=1,\n",
    "                rate=fs,\n",
    "                output=True)\n",
    "\n",
    "# play. May repeat with different volume values (if done interactively) \n",
    "stream.write(volume*samples)\n",
    "\n",
    "stream.stop_stream()\n",
    "stream.close()\n",
    "\n",
    "p.terminate()"
   ]
  },
  {
   "cell_type": "code",
   "execution_count": null,
   "metadata": {},
   "outputs": [],
   "source": []
  },
  {
   "cell_type": "code",
   "execution_count": null,
   "metadata": {},
   "outputs": [],
   "source": []
  }
 ],
 "metadata": {
  "kernelspec": {
   "display_name": "Python 3",
   "language": "python",
   "name": "python3"
  },
  "language_info": {
   "codemirror_mode": {
    "name": "ipython",
    "version": 3
   },
   "file_extension": ".py",
   "mimetype": "text/x-python",
   "name": "python",
   "nbconvert_exporter": "python",
   "pygments_lexer": "ipython3",
   "version": "3.6.4"
  }
 },
 "nbformat": 4,
 "nbformat_minor": 2
}
