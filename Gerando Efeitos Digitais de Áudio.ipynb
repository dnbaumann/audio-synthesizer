{
 "cells": [
  {
   "cell_type": "markdown",
   "metadata": {},
   "source": [
    "# Preimports"
   ]
  },
  {
   "cell_type": "code",
   "execution_count": 435,
   "metadata": {},
   "outputs": [],
   "source": [
    "import numpy as np\n",
    "import pandas as pd\n",
    "import pyaudio\n",
    "import matplotlib.pyplot as plt\n",
    "from matplotlib import gridspec\n",
    "from scipy.fftpack import fft\n",
    "from scipy.signal import butter, lfilter, freqz\n",
    "from time import *\n",
    "\n",
    "%matplotlib inline"
   ]
  },
  {
   "cell_type": "code",
   "execution_count": 410,
   "metadata": {},
   "outputs": [],
   "source": [
    "fq = pd.read_csv('notesFrequencies',\n",
    "                 index_col=0,\n",
    "                 header=None,\n",
    "                 names=['Note','Frequency','Wavelenght']).T\n",
    "\n",
    "intervals = pd.read_csv('intervals',\n",
    "                        header=None,\n",
    "                        names = ['Semitone', 'R1', 'R2', 'Interval', 'Natural', 'HS1', 'HS2'])"
   ]
  },
  {
   "cell_type": "markdown",
   "metadata": {},
   "source": [
    "# Gerando as ondas"
   ]
  },
  {
   "cell_type": "code",
   "execution_count": 459,
   "metadata": {},
   "outputs": [],
   "source": [
    "fs = 44100  # sampling rate, Hz, inteiro\n",
    "duration = 20"
   ]
  },
  {
   "cell_type": "code",
   "execution_count": 460,
   "metadata": {},
   "outputs": [],
   "source": [
    "fqs = list()\n",
    "samples = list()\n",
    "\n",
    "fqs.append(fq['G3'][0])\n",
    "fqs.append(fq['G4'][0])\n",
    "fqs.append(fq['G5'][0])\n",
    "\n",
    "for f in fqs:\n",
    "    samples.append((np.sin(2*np.pi*np.arange(fs*duration)*f/fs)).astype(np.float32))\n",
    "\n",
    "result = sum(samples)"
   ]
  },
  {
   "cell_type": "markdown",
   "metadata": {},
   "source": [
    "#### Fazendo FFT"
   ]
  },
  {
   "cell_type": "code",
   "execution_count": 461,
   "metadata": {},
   "outputs": [],
   "source": [
    "# fourier fast transform\n",
    "N = len(result)\n",
    "T = 1.0 / fs\n",
    "x = np.linspace(0.0, N*T, N)\n",
    "y = result\n",
    "yf = fft(y)\n",
    "xf = np.linspace(0.0, 1.0/(2.0*T), N//2)"
   ]
  },
  {
   "cell_type": "markdown",
   "metadata": {},
   "source": [
    "#### Plotando as ondas"
   ]
  },
  {
   "cell_type": "code",
   "execution_count": null,
   "metadata": {},
   "outputs": [],
   "source": [
    "f[0]"
   ]
  },
  {
   "cell_type": "code",
   "execution_count": null,
   "metadata": {
    "scrolled": false
   },
   "outputs": [
    {
     "ename": "IndexError",
     "evalue": "invalid index to scalar variable.",
     "output_type": "error",
     "traceback": [
      "\u001b[0;31m---------------------------------------------------------------------------\u001b[0m",
      "\u001b[0;31mIndexError\u001b[0m                                Traceback (most recent call last)",
      "\u001b[0;32m<ipython-input-466-2a57693759c0>\u001b[0m in \u001b[0;36m<module>\u001b[0;34m()\u001b[0m\n\u001b[1;32m     17\u001b[0m             loc='upper right', prop={'size': 12})\n\u001b[1;32m     18\u001b[0m \u001b[0max0\u001b[0m\u001b[0;34m.\u001b[0m\u001b[0mset_ylabel\u001b[0m\u001b[0;34m(\u001b[0m\u001b[0;34m'Frequências Isoladas'\u001b[0m\u001b[0;34m)\u001b[0m\u001b[0;34m\u001b[0m\u001b[0m\n\u001b[0;32m---> 19\u001b[0;31m \u001b[0max0\u001b[0m\u001b[0;34m.\u001b[0m\u001b[0mset_xlim\u001b[0m\u001b[0;34m(\u001b[0m\u001b[0;36m0\u001b[0m\u001b[0;34m,\u001b[0m\u001b[0mxmax\u001b[0m\u001b[0;34m/\u001b[0m\u001b[0mf\u001b[0m\u001b[0;34m[\u001b[0m\u001b[0;36m0\u001b[0m\u001b[0;34m]\u001b[0m\u001b[0;34m)\u001b[0m\u001b[0;34m\u001b[0m\u001b[0m\n\u001b[0m\u001b[1;32m     20\u001b[0m \u001b[0;34m\u001b[0m\u001b[0m\n\u001b[1;32m     21\u001b[0m \u001b[0;31m# domínio tempo da onda resultante\u001b[0m\u001b[0;34m\u001b[0m\u001b[0;34m\u001b[0m\u001b[0m\n",
      "\u001b[0;31mIndexError\u001b[0m: invalid index to scalar variable."
     ]
    }
   ],
   "source": [
    "xmax = fs\n",
    "\n",
    "fig = plt.figure(figsize=(16, 12)) \n",
    "gs = gridspec.GridSpec(3, 1) \n",
    "\n",
    "ax0 = plt.subplot(gs[0])\n",
    "ax1 = plt.subplot(gs[1])\n",
    "ax2 = plt.subplot(gs[2])\n",
    "\n",
    "# plotando ondas separadas\n",
    "ax0.plot(range(0,len(samples[0])), samples[0], color = 'g')\n",
    "ax0.plot(range(0,len(samples[1])), samples[1], color = 'b')\n",
    "ax0.plot(range(0,len(samples[2])), samples[2], color = 'r')\n",
    "ax0.legend(('Frequência = {} Hz'.format(fqs[0]), \n",
    "            'Frequência = {} Hz'.format(fqs[1]), \n",
    "            'Frequência = {} Hz'.format(fqs[2])),\n",
    "            loc='upper right', prop={'size': 12})\n",
    "ax0.set_ylabel('Frequências Isoladas')\n",
    "ax0.set_xlim(0,xmax/f[0])\n",
    "\n",
    "# domínio tempo da onda resultante\n",
    "ax1.plot(range(0,len(result)), result, color = 'black', linewidth=2)\n",
    "ax1.set_xlabel('Tempo')\n",
    "ax1.set_ylabel('Onda Resultante Normalizada')\n",
    "ax1.set_xlim(0,xmax)\n",
    "\n",
    "# domínio frequência da onda resultante\n",
    "ax2.plot(xf, 2.0/N * np.abs(yf[0:N//2]), color = 'g')\n",
    "ax2.set_xlim(0,880)\n",
    "ax2.set_xlabel('Frequência')\n",
    "ax2.set_ylabel('Intensidade')\n",
    "\n",
    "fig.tight_layout();"
   ]
  },
  {
   "cell_type": "markdown",
   "metadata": {},
   "source": [
    "# Efeitos Digitais"
   ]
  },
  {
   "cell_type": "markdown",
   "metadata": {},
   "source": [
    "### Filtro Passa-Baixa"
   ]
  },
  {
   "cell_type": "code",
   "execution_count": 436,
   "metadata": {},
   "outputs": [],
   "source": [
    "def butter_lowpass(cutoff, fs=fs, order=5):\n",
    "    nyq = 0.5 * fs\n",
    "    normal_cutoff = cutoff / nyq\n",
    "    b, a = butter(order, normal_cutoff, btype='low', analog=False)\n",
    "    return b, a\n",
    "\n",
    "def butter_lowpass_filter(data, cutoff, fs, order=5):\n",
    "    b, a = butter_lowpass(cutoff, fs, order=order)\n",
    "    y = lfilter(b, a, data)\n",
    "    return y"
   ]
  },
  {
   "cell_type": "code",
   "execution_count": null,
   "metadata": {},
   "outputs": [],
   "source": []
  },
  {
   "cell_type": "markdown",
   "metadata": {},
   "source": [
    "## Tocando a onda"
   ]
  },
  {
   "cell_type": "code",
   "execution_count": null,
   "metadata": {},
   "outputs": [],
   "source": []
  },
  {
   "cell_type": "code",
   "execution_count": 463,
   "metadata": {},
   "outputs": [],
   "source": [
    "wave = result\n",
    "volume = 1\n",
    "\n",
    "p = pyaudio.PyAudio()\n",
    "\n",
    "# for paFloat32 sample values must be in range [-1.0, 1.0]\n",
    "stream = p.open(format=pyaudio.paFloat32,\n",
    "                channels=1,\n",
    "                rate=fs,\n",
    "                output=True)\n",
    "\n",
    "# play. May repeat with different volume values (if done interactively) \n",
    "\n",
    "stream.write(volume*wave)\n",
    "\n",
    "stream.stop_stream()\n",
    "stream.close()\n",
    "\n",
    "p.terminate()"
   ]
  },
  {
   "cell_type": "code",
   "execution_count": null,
   "metadata": {},
   "outputs": [],
   "source": []
  }
 ],
 "metadata": {
  "kernelspec": {
   "display_name": "Python 3",
   "language": "python",
   "name": "python3"
  },
  "language_info": {
   "codemirror_mode": {
    "name": "ipython",
    "version": 3
   },
   "file_extension": ".py",
   "mimetype": "text/x-python",
   "name": "python",
   "nbconvert_exporter": "python",
   "pygments_lexer": "ipython3",
   "version": "3.6.4"
  }
 },
 "nbformat": 4,
 "nbformat_minor": 2
}
